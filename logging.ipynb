{
 "cells": [
  {
   "cell_type": "code",
   "execution_count": 0,
   "metadata": {
    "application/vnd.databricks.v1+cell": {
     "cellMetadata": {
      "byteLimit": 2048000,
      "rowLimit": 10000
     },
     "inputWidgets": {},
     "nuid": "83eac8f1-1a4c-4bc4-b91d-68f6a83e716d",
     "showTitle": false,
     "tableResultSettingsMap": {},
     "title": ""
    }
   },
   "outputs": [],
   "source": [
    "import logging\n",
    "import time,datetime"
   ]
  },
  {
   "cell_type": "code",
   "execution_count": 0,
   "metadata": {
    "application/vnd.databricks.v1+cell": {
     "cellMetadata": {
      "byteLimit": 2048000,
      "rowLimit": 10000
     },
     "inputWidgets": {},
     "nuid": "81cbb5f0-0ea1-4d18-9058-f916ac56eaaa",
     "showTitle": false,
     "tableResultSettingsMap": {},
     "title": ""
    }
   },
   "outputs": [
    {
     "output_type": "stream",
     "name": "stderr",
     "output_type": "stream",
     "text": [
      "WARNING:root:This is a warning message\nERROR:root:This is an error message\nCRITICAL:root:This is a critical error\n"
     ]
    }
   ],
   "source": [
    "logging.debug(\"This is a debug message\"); #types of logging information\n",
    "logging.info(\"This is an info message\");\n",
    "logging.warning(\"This is a warning message\");\n",
    "logging.error(\"This is an error message\");\n",
    "logging.fatal(\"This is a critical error\");"
   ]
  },
  {
   "cell_type": "code",
   "execution_count": 0,
   "metadata": {
    "application/vnd.databricks.v1+cell": {
     "cellMetadata": {
      "byteLimit": 2048000,
      "rowLimit": 10000
     },
     "inputWidgets": {},
     "nuid": "7777ef3d-3526-4b36-ae5f-23b7bc9c0759",
     "showTitle": false,
     "tableResultSettingsMap": {},
     "title": ""
    }
   },
   "outputs": [],
   "source": [
    "logger=logging.getLogger(\"log4j\")\n",
    "logger.setLevel(logging.DEBUG)"
   ]
  },
  {
   "cell_type": "markdown",
   "metadata": {
    "application/vnd.databricks.v1+cell": {
     "cellMetadata": {},
     "inputWidgets": {},
     "nuid": "6a082080-ad73-446b-86b5-a77c5ffd19fd",
     "showTitle": false,
     "tableResultSettingsMap": {},
     "title": ""
    }
   },
   "source": [
    " I used log4j logger and I am  setting up level as DEBUG as debug gives includes info and error messages we can alo also use  levels as info,error See if you use info level it  gives only info messages  ,error level  gives only error messages  so better use debug level and formatter will help to store the file name as in the particular format"
   ]
  },
  {
   "cell_type": "code",
   "execution_count": 0,
   "metadata": {
    "application/vnd.databricks.v1+cell": {
     "cellMetadata": {
      "byteLimit": 2048000,
      "rowLimit": 10000
     },
     "inputWidgets": {},
     "nuid": "b238ec68-5ff8-4955-b58c-726df4dead99",
     "showTitle": false,
     "tableResultSettingsMap": {},
     "title": ""
    }
   },
   "outputs": [],
   "source": [
    "formatter = logging.Formatter(\n",
    "    '%(asctime)s - %(name)s - %(levelname)s - %(funcName)s: %(message)s',\n",
    "    datefmt='%d/%m/%Y %I:%M:%S %p'\n",
    ")  #first formatter\n",
    "     \n"
   ]
  },
  {
   "cell_type": "code",
   "execution_count": 0,
   "metadata": {
    "application/vnd.databricks.v1+cell": {
     "cellMetadata": {
      "byteLimit": 2048000,
      "rowLimit": 10000
     },
     "inputWidgets": {},
     "nuid": "f4633aaa-ca39-4b4f-924a-ef23f456374a",
     "showTitle": false,
     "tableResultSettingsMap": {},
     "title": ""
    }
   },
   "outputs": [],
   "source": [
    "formatter = logging.Formatter(\n",
    "    '%(levelname)s (%(asctime)s): %(message)s (Line: %(lineno)d [%(filename)s])',\n",
    "    datefmt='%d/%m/%Y %I:%M:%S %p'\n",
    ") #second formatter\n",
    "     "
   ]
  },
  {
   "cell_type": "markdown",
   "metadata": {
    "application/vnd.databricks.v1+cell": {
     "cellMetadata": {},
     "inputWidgets": {},
     "nuid": "8c17b68b-0c55-45ce-82c8-2b6c02c659bc",
     "showTitle": false,
     "tableResultSettingsMap": {},
     "title": ""
    }
   },
   "source": [
    " how your log file will be is decided by formatter and if data is from multiple timezone use python module to handle that"
   ]
  },
  {
   "cell_type": "markdown",
   "metadata": {
    "application/vnd.databricks.v1+cell": {
     "cellMetadata": {
      "byteLimit": 2048000,
      "rowLimit": 10000
     },
     "inputWidgets": {},
     "nuid": "f0f15a74-da73-4488-954e-efd0ad08170b",
     "showTitle": false,
     "tableResultSettingsMap": {},
     "title": ""
    }
   },
   "source": [
    " databricks can access only dbfs mounted folder i.e mostly /dbfs folder it cannot access local folders ."
   ]
  },
  {
   "cell_type": "code",
   "execution_count": 0,
   "metadata": {
    "application/vnd.databricks.v1+cell": {
     "cellMetadata": {
      "byteLimit": 2048000,
      "rowLimit": 10000
     },
     "inputWidgets": {},
     "nuid": "c33f30c0-f363-49b8-9f0f-2de64094e749",
     "showTitle": false,
     "tableResultSettingsMap": {},
     "title": ""
    }
   },
   "outputs": [],
   "source": [
    "import os \n",
    "os.makedirs(\"/tmp/logs/\", exist_ok=True)\n",
    "log_filename = f\"/tmp/logs/{datetime.datetime.now().strftime('%Y-%m-%d-%H')}.log\"\n",
    "\n",
    "logFileHandler = logging.FileHandler(log_filename, mode='w')  # 'a' will append\n",
    "logFileHandler.setFormatter(formatter)\n",
    "logger.addHandler(logFileHandler)"
   ]
  },
  {
   "cell_type": "markdown",
   "metadata": {
    "application/vnd.databricks.v1+cell": {
     "cellMetadata": {},
     "inputWidgets": {},
     "nuid": "f60b1a77-bfa1-4a1e-a1d8-e4a6b749c337",
     "showTitle": false,
     "tableResultSettingsMap": {},
     "title": ""
    }
   },
   "source": [
    " filehandler  stores the file in the particular folder and tell which format and add that logfile to the log4j logger"
   ]
  },
  {
   "cell_type": "code",
   "execution_count": 0,
   "metadata": {
    "application/vnd.databricks.v1+cell": {
     "cellMetadata": {},
     "inputWidgets": {},
     "nuid": "1a65460e-9db8-493b-bcc6-c0059b311d47",
     "showTitle": false,
     "tableResultSettingsMap": {},
     "title": ""
    }
   },
   "outputs": [],
   "source": [
    "#from pyspark.sql import SparkSession\n",
    "#spark=SparkSession.builder.appName('Dataframe').getOrCreate() #starting spark session # used if it is not databricks"
   ]
  },
  {
   "cell_type": "code",
   "execution_count": 0,
   "metadata": {
    "application/vnd.databricks.v1+cell": {
     "cellMetadata": {
      "byteLimit": 2048000,
      "rowLimit": 10000
     },
     "inputWidgets": {},
     "nuid": "be2f784d-9cb3-4a69-8c6f-1d40f389945b",
     "showTitle": false,
     "tableResultSettingsMap": {},
     "title": ""
    }
   },
   "outputs": [
    {
     "output_type": "stream",
     "name": "stdout",
     "output_type": "stream",
     "text": [
      "Out[6]: [FileInfo(path='dbfs:/FileStore/tables/BigMart_Sales.csv', name='BigMart_Sales.csv', size=869537, modificationTime=1747908600000)]"
     ]
    }
   ],
   "source": [
    "dbutils.fs.ls('/FileStore/tables/')"
   ]
  },
  {
   "cell_type": "code",
   "execution_count": 0,
   "metadata": {
    "application/vnd.databricks.v1+cell": {
     "cellMetadata": {
      "byteLimit": 2048000,
      "rowLimit": 10000
     },
     "inputWidgets": {},
     "nuid": "da2abd48-933c-4d12-a4e5-a60e2a5af8fe",
     "showTitle": false,
     "tableResultSettingsMap": {},
     "title": ""
    }
   },
   "outputs": [],
   "source": [
    "df = (spark.read.format(\"csv\") \n",
    "    .option(\"header\", True) \n",
    "    .option(\"inferSchema\", True) \n",
    "    .load('dbfs:/FileStore/tables/BigMart_Sales.csv') ) \n"
   ]
  },
  {
   "cell_type": "code",
   "execution_count": 0,
   "metadata": {
    "application/vnd.databricks.v1+cell": {
     "cellMetadata": {
      "byteLimit": 2048000,
      "rowLimit": 10000
     },
     "inputWidgets": {},
     "nuid": "d8907c6c-9f9e-4154-a3f8-88d5edc2797a",
     "showTitle": false,
     "tableResultSettingsMap": {},
     "title": ""
    }
   },
   "outputs": [
    {
     "output_type": "display_data",
     "data": {
      "text/html": [
       "<style scoped>\n",
       "  .table-result-container {\n",
       "    max-height: 300px;\n",
       "    overflow: auto;\n",
       "  }\n",
       "  table, th, td {\n",
       "    border: 1px solid black;\n",
       "    border-collapse: collapse;\n",
       "  }\n",
       "  th, td {\n",
       "    padding: 5px;\n",
       "  }\n",
       "  th {\n",
       "    text-align: left;\n",
       "  }\n",
       "</style><div class='table-result-container'><table class='table-result'><thead style='background-color: white'><tr><th>Item_Identifier</th><th>Item_Weight</th><th>Item_Fat_Content</th><th>Item_Visibility</th><th>Item_Type</th><th>Item_MRP</th><th>Outlet_Identifier</th><th>Outlet_Establishment_Year</th><th>Outlet_Size</th><th>Outlet_Location_Type</th><th>Outlet_Type</th><th>Item_Outlet_Sales</th></tr></thead><tbody><tr><td>FDA15</td><td>9.3</td><td>Low Fat</td><td>0.016047301</td><td>Dairy</td><td>249.8092</td><td>OUT049</td><td>1999</td><td>Medium</td><td>Tier 1</td><td>Supermarket Type1</td><td>3735.138</td></tr><tr><td>DRC01</td><td>5.92</td><td>Regular</td><td>0.019278216</td><td>Soft Drinks</td><td>48.2692</td><td>OUT018</td><td>2009</td><td>Medium</td><td>Tier 3</td><td>Supermarket Type2</td><td>443.4228</td></tr><tr><td>FDN15</td><td>17.5</td><td>Low Fat</td><td>0.016760075</td><td>Meat</td><td>141.618</td><td>OUT049</td><td>1999</td><td>Medium</td><td>Tier 1</td><td>Supermarket Type1</td><td>2097.27</td></tr><tr><td>FDX07</td><td>19.2</td><td>Regular</td><td>0</td><td>Fruits and Vegetables</td><td>182.095</td><td>OUT010</td><td>1998</td><td>null</td><td>Tier 3</td><td>Grocery Store</td><td>732.38</td></tr><tr><td>NCD19</td><td>8.93</td><td>Low Fat</td><td>0</td><td>Household</td><td>53.8614</td><td>OUT013</td><td>1987</td><td>High</td><td>Tier 3</td><td>Supermarket Type1</td><td>994.7052</td></tr><tr><td>FDP36</td><td>10.395</td><td>Regular</td><td>0</td><td>Baking Goods</td><td>51.4008</td><td>OUT018</td><td>2009</td><td>Medium</td><td>Tier 3</td><td>Supermarket Type2</td><td>556.6088</td></tr><tr><td>FDO10</td><td>13.65</td><td>Regular</td><td>0.012741089</td><td>Snack Foods</td><td>57.6588</td><td>OUT013</td><td>1987</td><td>High</td><td>Tier 3</td><td>Supermarket Type1</td><td>343.5528</td></tr><tr><td>FDP10</td><td>null</td><td>Low Fat</td><td>0.127469857</td><td>Snack Foods</td><td>107.7622</td><td>OUT027</td><td>1985</td><td>Medium</td><td>Tier 3</td><td>Supermarket Type3</td><td>4022.7636</td></tr><tr><td>FDH17</td><td>16.2</td><td>Regular</td><td>0.016687114</td><td>Frozen Foods</td><td>96.9726</td><td>OUT045</td><td>2002</td><td>null</td><td>Tier 2</td><td>Supermarket Type1</td><td>1076.5986</td></tr><tr><td>FDU28</td><td>19.2</td><td>Regular</td><td>0.09444959</td><td>Frozen Foods</td><td>187.8214</td><td>OUT017</td><td>2007</td><td>null</td><td>Tier 2</td><td>Supermarket Type1</td><td>4710.535</td></tr></tbody></table></div>"
      ]
     },
     "metadata": {
      "application/vnd.databricks.v1+output": {
       "addedWidgets": {},
       "aggData": [],
       "aggError": "",
       "aggOverflow": false,
       "aggSchema": [],
       "aggSeriesLimitReached": false,
       "aggType": "",
       "arguments": {},
       "columnCustomDisplayInfos": {},
       "data": [
        [
         "FDA15",
         "9.3",
         "Low Fat",
         "0.016047301",
         "Dairy",
         "249.8092",
         "OUT049",
         "1999",
         "Medium",
         "Tier 1",
         "Supermarket Type1",
         "3735.138"
        ],
        [
         "DRC01",
         "5.92",
         "Regular",
         "0.019278216",
         "Soft Drinks",
         "48.2692",
         "OUT018",
         "2009",
         "Medium",
         "Tier 3",
         "Supermarket Type2",
         "443.4228"
        ],
        [
         "FDN15",
         "17.5",
         "Low Fat",
         "0.016760075",
         "Meat",
         "141.618",
         "OUT049",
         "1999",
         "Medium",
         "Tier 1",
         "Supermarket Type1",
         "2097.27"
        ],
        [
         "FDX07",
         "19.2",
         "Regular",
         "0",
         "Fruits and Vegetables",
         "182.095",
         "OUT010",
         "1998",
         null,
         "Tier 3",
         "Grocery Store",
         "732.38"
        ],
        [
         "NCD19",
         "8.93",
         "Low Fat",
         "0",
         "Household",
         "53.8614",
         "OUT013",
         "1987",
         "High",
         "Tier 3",
         "Supermarket Type1",
         "994.7052"
        ],
        [
         "FDP36",
         "10.395",
         "Regular",
         "0",
         "Baking Goods",
         "51.4008",
         "OUT018",
         "2009",
         "Medium",
         "Tier 3",
         "Supermarket Type2",
         "556.6088"
        ],
        [
         "FDO10",
         "13.65",
         "Regular",
         "0.012741089",
         "Snack Foods",
         "57.6588",
         "OUT013",
         "1987",
         "High",
         "Tier 3",
         "Supermarket Type1",
         "343.5528"
        ],
        [
         "FDP10",
         null,
         "Low Fat",
         "0.127469857",
         "Snack Foods",
         "107.7622",
         "OUT027",
         "1985",
         "Medium",
         "Tier 3",
         "Supermarket Type3",
         "4022.7636"
        ],
        [
         "FDH17",
         "16.2",
         "Regular",
         "0.016687114",
         "Frozen Foods",
         "96.9726",
         "OUT045",
         "2002",
         null,
         "Tier 2",
         "Supermarket Type1",
         "1076.5986"
        ],
        [
         "FDU28",
         "19.2",
         "Regular",
         "0.09444959",
         "Frozen Foods",
         "187.8214",
         "OUT017",
         "2007",
         null,
         "Tier 2",
         "Supermarket Type1",
         "4710.535"
        ]
       ],
       "datasetInfos": [],
       "dbfsResultPath": null,
       "isJsonSchema": true,
       "metadata": {},
       "overflow": false,
       "plotOptions": {
        "customPlotOptions": {},
        "displayType": "table",
        "pivotAggregation": null,
        "pivotColumns": null,
        "xColumns": null,
        "yColumns": null
       },
       "removedWidgets": [],
       "schema": [
        {
         "metadata": "{}",
         "name": "Item_Identifier",
         "type": "\"string\""
        },
        {
         "metadata": "{}",
         "name": "Item_Weight",
         "type": "\"string\""
        },
        {
         "metadata": "{}",
         "name": "Item_Fat_Content",
         "type": "\"string\""
        },
        {
         "metadata": "{}",
         "name": "Item_Visibility",
         "type": "\"string\""
        },
        {
         "metadata": "{}",
         "name": "Item_Type",
         "type": "\"string\""
        },
        {
         "metadata": "{}",
         "name": "Item_MRP",
         "type": "\"string\""
        },
        {
         "metadata": "{}",
         "name": "Outlet_Identifier",
         "type": "\"string\""
        },
        {
         "metadata": "{}",
         "name": "Outlet_Establishment_Year",
         "type": "\"string\""
        },
        {
         "metadata": "{}",
         "name": "Outlet_Size",
         "type": "\"string\""
        },
        {
         "metadata": "{}",
         "name": "Outlet_Location_Type",
         "type": "\"string\""
        },
        {
         "metadata": "{}",
         "name": "Outlet_Type",
         "type": "\"string\""
        },
        {
         "metadata": "{}",
         "name": "Item_Outlet_Sales",
         "type": "\"string\""
        }
       ],
       "type": "table"
      }
     },
     "output_type": "display_data"
    }
   ],
   "source": [
    "display(df.limit(10))\n"
   ]
  },
  {
   "cell_type": "code",
   "execution_count": 0,
   "metadata": {
    "application/vnd.databricks.v1+cell": {
     "cellMetadata": {
      "byteLimit": 2048000,
      "rowLimit": 10000
     },
     "inputWidgets": {},
     "nuid": "d7bb1acb-0cd8-4082-8b40-8dd85956c737",
     "showTitle": false,
     "tableResultSettingsMap": {},
     "title": ""
    }
   },
   "outputs": [],
   "source": [
    "dbutils.widgets.text(\"workspace_name\", \"my_workspace\", \"Workspace Name\")"
   ]
  },
  {
   "cell_type": "code",
   "execution_count": 0,
   "metadata": {
    "application/vnd.databricks.v1+cell": {
     "cellMetadata": {
      "byteLimit": 2048000,
      "rowLimit": 10000
     },
     "inputWidgets": {},
     "nuid": "99a19b23-837d-448b-8cb0-be7875d30d21",
     "showTitle": false,
     "tableResultSettingsMap": {},
     "title": ""
    }
   },
   "outputs": [
    {
     "output_type": "stream",
     "name": "stdout",
     "output_type": "stream",
     "text": [
      "dev workspace\n"
     ]
    }
   ],
   "source": [
    "dbutils.widgets.text(\"workspace_name\", \"\", \"Workspace Name\")\n",
    "workspace_name = dbutils.widgets.get(\"workspace_name\")\n",
    "print(workspace_name)"
   ]
  },
  {
   "cell_type": "code",
   "execution_count": 0,
   "metadata": {
    "application/vnd.databricks.v1+cell": {
     "cellMetadata": {
      "byteLimit": 2048000,
      "rowLimit": 10000
     },
     "inputWidgets": {},
     "nuid": "458aa095-23b3-4679-97ba-49075407f472",
     "showTitle": false,
     "tableResultSettingsMap": {},
     "title": ""
    }
   },
   "outputs": [
    {
     "output_type": "stream",
     "name": "stdout",
     "output_type": "stream",
     "text": [
      "logging notebook\n"
     ]
    }
   ],
   "source": [
    "full_path = dbutils.notebook.entry_point.getDbutils().notebook().getContext().notebookPath().get()\n",
    "notebook_name = full_path.split(\"/\")[-1]\n",
    "print(notebook_name)"
   ]
  },
  {
   "cell_type": "code",
   "execution_count": 0,
   "metadata": {
    "application/vnd.databricks.v1+cell": {
     "cellMetadata": {
      "byteLimit": 2048000,
      "rowLimit": 10000
     },
     "inputWidgets": {},
     "nuid": "8de5ba2e-e74e-4acf-b3b5-83bbc31bea77",
     "showTitle": false,
     "tableResultSettingsMap": {},
     "title": ""
    }
   },
   "outputs": [
    {
     "output_type": "stream",
     "name": "stdout",
     "output_type": "stream",
     "text": [
      "Log context: dev workspace/logging notebook\n"
     ]
    }
   ],
   "source": [
    "log_context = f\"{workspace_name}/{notebook_name}\"\n",
    "print(f\"Log context: {log_context}\")\n"
   ]
  },
  {
   "cell_type": "code",
   "execution_count": 0,
   "metadata": {
    "application/vnd.databricks.v1+cell": {
     "cellMetadata": {
      "byteLimit": 2048000,
      "rowLimit": 10000
     },
     "inputWidgets": {},
     "nuid": "f866f9ea-2ba0-4af4-968f-17a690b6dbd0",
     "showTitle": false,
     "tableResultSettingsMap": {},
     "title": ""
    }
   },
   "outputs": [
    {
     "output_type": "stream",
     "name": "stderr",
     "output_type": "stream",
     "text": [
      "INFO:log4j:dev workspace/logging notebook Share data source file read started................\nINFO:log4j:dev workspace/logging notebook Total number of 8523 records present\nERROR:log4j:dev workspace/logging notebook Logging Error defined: 'DataFrame' object has no attribute 'column_not_present'\n"
     ]
    },
    {
     "output_type": "stream",
     "name": "stdout",
     "output_type": "stream",
     "text": [
      "8523\nLogging Error 'DataFrame' object has no attribute 'column_not_present'\n"
     ]
    }
   ],
   "source": [
    "message = '{} Share data source file read started................'.format(log_context)\n",
    "logger.info(message)\n",
    "\n",
    "# Read file\n",
    "df = spark.read.csv('/FileStore/tables/BigMart_Sales.csv', header='true')\n",
    "count = df.count()\n",
    "print(count)\n",
    "\n",
    "message = '{} Total number of {} records present'.format(log_context, count)\n",
    "logger.info(message)\n",
    "\n",
    "# Try-except for error logging\n",
    "try:\n",
    "    df1 = df.withColumn('testColumn', str(df.column_not_present))  # Intentional error\n",
    "    display(df1)\n",
    "\n",
    "except Exception as e:\n",
    "    print('Logging Error {}'.format(e))\n",
    "    errorMessage = '{} Logging Error defined: {}'.format(log_context, e)\n",
    "    logger.error(errorMessage)"
   ]
  },
  {
   "cell_type": "code",
   "execution_count": 0,
   "metadata": {
    "application/vnd.databricks.v1+cell": {
     "cellMetadata": {
      "byteLimit": 2048000,
      "rowLimit": 10000
     },
     "inputWidgets": {},
     "nuid": "5fb07c47-0705-4652-86a9-75fe3aef8f55",
     "showTitle": false,
     "tableResultSettingsMap": {},
     "title": ""
    }
   },
   "outputs": [],
   "source": [
    "logging.shutdown()"
   ]
  },
  {
   "cell_type": "code",
   "execution_count": 0,
   "metadata": {
    "application/vnd.databricks.v1+cell": {
     "cellMetadata": {
      "byteLimit": 2048000,
      "rowLimit": 10000
     },
     "inputWidgets": {},
     "nuid": "ec39799c-1af8-4c42-94eb-1eb154ec5517",
     "showTitle": false,
     "tableResultSettingsMap": {},
     "title": ""
    }
   },
   "outputs": [
    {
     "output_type": "stream",
     "name": "stdout",
     "output_type": "stream",
     "text": [
      "2025-05-26-16.log\n"
     ]
    }
   ],
   "source": [
    "%sh\n",
    "ls /tmp/logs"
   ]
  },
  {
   "cell_type": "code",
   "execution_count": 0,
   "metadata": {
    "application/vnd.databricks.v1+cell": {
     "cellMetadata": {
      "byteLimit": 2048000,
      "rowLimit": 10000
     },
     "inputWidgets": {},
     "nuid": "a0bd78c8-ea11-4452-9b88-99db0cdd9af0",
     "showTitle": false,
     "tableResultSettingsMap": {},
     "title": ""
    }
   },
   "outputs": [
    {
     "output_type": "stream",
     "name": "stdout",
     "output_type": "stream",
     "text": [
      "Out[16]: True"
     ]
    }
   ],
   "source": [
    "dbutils.fs.cp(\"file:/tmp/logs/2025-05-26-16.log\", \"dbfs:/tmp/logs/2025-05-26-16.log\")\n"
   ]
  },
  {
   "cell_type": "code",
   "execution_count": 0,
   "metadata": {
    "application/vnd.databricks.v1+cell": {
     "cellMetadata": {
      "byteLimit": 2048000,
      "rowLimit": 10000
     },
     "inputWidgets": {},
     "nuid": "943b4b2c-e10f-4d0e-a18d-a802e4a8e8e7",
     "showTitle": false,
     "tableResultSettingsMap": {},
     "title": ""
    }
   },
   "outputs": [
    {
     "output_type": "stream",
     "name": "stdout",
     "output_type": "stream",
     "text": [
      "+--------------------------------------------------------------------------------------------------------------------------------------------------------------------------------------+\n|value                                                                                                                                                                                 |\n+--------------------------------------------------------------------------------------------------------------------------------------------------------------------------------------+\n|INFO (26/05/2025 04:07:12 PM): dev workspace/logging notebook Share data source file read started................ (Line: 2 [<command-2696206594891380>])                              |\n|INFO (26/05/2025 04:07:16 PM): dev workspace/logging notebook Total number of 8523 records present (Line: 10 [<command-2696206594891380>])                                            |\n|ERROR (26/05/2025 04:07:16 PM): dev workspace/logging notebook Logging Error defined: 'DataFrame' object has no attribute 'column_not_present' (Line: 20 [<command-2696206594891380>])|\n+--------------------------------------------------------------------------------------------------------------------------------------------------------------------------------------+\n\n"
     ]
    }
   ],
   "source": [
    "de=spark.read.text('dbfs:/tmp/logs/2025-05-26-16.log') #create by first formatter\n",
    "de.show(truncate=False)"
   ]
  }
 ],
 "metadata": {
  "application/vnd.databricks.v1+notebook": {
   "computePreferences": null,
   "dashboards": [],
   "environmentMetadata": {
    "base_environment": "",
    "environment_version": "1"
   },
   "inputWidgetPreferences": null,
   "language": "python",
   "notebookMetadata": {
    "mostRecentlyExecutedCommandWithImplicitDF": {
     "commandId": 2696206594891386,
     "dataframes": [
      "_sqldf"
     ]
    },
    "pythonIndentUnit": 4
   },
   "notebookName": "logging notebook",
   "widgets": {
    "workspace_name": {
     "currentValue": "dev workspace",
     "nuid": "894c1e75-26c9-4ee4-8973-381d912d4b41",
     "typedWidgetInfo": {
      "autoCreated": false,
      "defaultValue": "",
      "label": "Workspace Name",
      "name": "workspace_name",
      "options": {
       "widgetDisplayType": "Text",
       "validationRegex": null
      },
      "parameterDataType": "String"
     },
     "widgetInfo": {
      "widgetType": "text",
      "defaultValue": "",
      "label": "Workspace Name",
      "name": "workspace_name",
      "options": {
       "widgetType": "text",
       "autoCreated": null,
       "validationRegex": null
      }
     }
    }
   }
  }
 },
 "nbformat": 4,
 "nbformat_minor": 0
}